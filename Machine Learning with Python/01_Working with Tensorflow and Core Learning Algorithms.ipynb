{
 "nbformat": 4,
 "nbformat_minor": 0,
 "metadata": {
  "colab": {
   "name": "Working with Tensorflow and Core Learning Algorithms.ipynb",
   "provenance": [],
   "collapsed_sections": [
    "oixCgcYYH5bb",
    "hRbfSFExURZM",
    "XrOHRGILUcAZ",
    "KMZ9SRQE38te",
    "Ag1dTns48uMc"
   ]
  },
  "kernelspec": {
   "name": "python3",
   "display_name": "Python 3"
  }
 },
 "cells": [
  {
   "cell_type": "markdown",
   "metadata": {
    "id": "aKcq7_ZqB7LI",
    "colab_type": "text"
   },
   "source": [
    "# Hey Everyone! Here's my progress in learning Tensorflow and practicing Machine Learning. **Part 1**\n",
    "\n",
    "\n",
    "**Follow my journey on social media:** [Podcast](https://open.spotify.com/show/6FxUBKO4bqwRWsjAIGZMwz) | [Twitter](https://twitter.com/tlkdata2me) | [Instagram](https://www.instagram.com/tlkdata2me/) | [LinkedIn](https://www.linkedin.com/in/shecananalyze/) \n",
    "\n",
    "Learning Source: [Click here to take freeCodeCamp's TensorFlow 2.0 Complete Course](https://www.youtube.com/watch?v=tPYj3fFJGjk)"
   ]
  },
  {
   "cell_type": "markdown",
   "metadata": {
    "id": "oixCgcYYH5bb",
    "colab_type": "text"
   },
   "source": [
    "# Intro to Tensorflow\n",
    "Vector - A **tensor** is a **vector** of a number (n) of dimensions that represent all types of data which are represented in *shapes.*\n",
    "\n",
    "Shapes - The dimension of the data being represented. (EX 2 rows 2 Columns)\n",
    "\n",
    "**Graphs and Sessions**\n",
    "- Graph - Set of computations that take place one after the other\n",
    "- Session - At this point I believe sessions are components from the graph (I will update this upon understanding)\n",
    "\n",
    "**Types of Tensors**\n",
    "- Variable - Right now I understand that variables can't be changed. (Immutable) "
   ]
  },
  {
   "cell_type": "code",
   "metadata": {
    "id": "Ax4VjKJGE7DO",
    "colab_type": "code",
    "outputId": "98823470-dc8d-408f-90ea-3c8d165ffc2b",
    "colab": {
     "base_uri": "https://localhost:8080/"
    }
   },
   "source": [
    "# Here I will practice changing shapes in Tensor Flow. \n",
    "%tensorflow_version 2.x\n",
    "import tensorflow as tf\n",
    "print(tf.version)"
   ],
   "execution_count": 0,
   "outputs": [
    {
     "output_type": "stream",
     "text": [
      "<module 'tensorflow._api.v2.version' from '/usr/local/lib/python3.6/dist-packages/tensorflow/_api/v2/version/__init__.py'>\n"
     ],
     "name": "stdout"
    }
   ]
  },
  {
   "cell_type": "code",
   "metadata": {
    "id": "iwGmGpEQMipe",
    "colab_type": "code",
    "colab": {}
   },
   "source": [
    "# Video Example (We Do)\n",
    "#Here I created a tensor of 0's with the shape of 5 sets of 5 arrays 5 rows with 5 columns\n",
    "t = tf.zeros([5,5,5,5]) \n",
    "#print(t)\n",
    "#Reshapes the tensor with 625 elements (elements are the number 0 in this case)\n",
    "t = tf.reshape(t,[625]) \n",
    "#print(t)\n",
    "#Reshapes the tensor with 125 rows (using -1 will create the amoun of columns needed to complete the task)\n",
    "t = tf.reshape(t,[125, -1]) \n",
    "#print(t)"
   ],
   "execution_count": 0,
   "outputs": []
  },
  {
   "cell_type": "code",
   "metadata": {
    "id": "IFYJPXPBNKdl",
    "colab_type": "code",
    "colab": {}
   },
   "source": [
    "# My Check on Learning (I Do)\n",
    "c = tf.zeros([2, 3, 4, 5])\n",
    "#print(c)\n",
    "c = tf.reshape(c, [5, 4, 3, 2])\n",
    "#print(c)\n",
    "# Or\n",
    "c = tf.reshape(c, [15, -1])\n",
    "#print(c)"
   ],
   "execution_count": 0,
   "outputs": []
  },
  {
   "cell_type": "markdown",
   "metadata": {
    "id": "hRbfSFExURZM",
    "colab_type": "text"
   },
   "source": [
    "# Core Learning Algoriths"
   ]
  },
  {
   "cell_type": "markdown",
   "metadata": {
    "id": "XrOHRGILUcAZ",
    "colab_type": "text"
   },
   "source": [
    "## Linear Regression\n",
    "- Linear Regression - When data points are related linearly, we can use the given points to create a line of best fit and predict future values."
   ]
  },
  {
   "cell_type": "code",
   "metadata": {
    "id": "7-7uU3waYDIP",
    "colab_type": "code",
    "colab": {}
   },
   "source": [
    "import numpy as np \n",
    "import pandas as pd \n",
    "import matplotlib.pyplot as plt \n",
    "from IPython.display import clear_output, display\n",
    "from six.moves import urllib\n",
    "\n",
    "import tensorflow as tf "
   ],
   "execution_count": 6,
   "outputs": []
  },
  {
   "cell_type": "markdown",
   "metadata": {
    "id": "2cHkJQppfwrx",
    "colab_type": "text"
   },
   "source": [
    "Using the Titanic data set from Kaggle to predict the survival of passengers on the Titanic\n",
    "\n",
    "Steps to take when building a model\n",
    "\n",
    "1. Load the data\n",
    "2. Explore the data\n",
    "3. Catagorize the data\n",
    "4. Create feature columns for the data\n",
    "\n",
    "\n"
   ]
  },
  {
   "cell_type": "code",
   "metadata": {
    "id": "WLN8k7dRYlTV",
    "colab_type": "code",
    "outputId": "8ca0ed40-348e-4ac3-9782-846f16609e32",
    "colab": {
     "base_uri": "https://localhost:8080/"
    }
   },
   "source": [
    "# Load dataset.\n",
    "dftrain = pd.read_csv('https://storage.googleapis.com/tf-datasets/titanic/train.csv') # training data\n",
    "dfeval = pd.read_csv('https://storage.googleapis.com/tf-datasets/titanic/eval.csv') # testing data\n",
    "display(dftrain.head())\n",
    "y_train = dftrain.pop('survived') #pop removes a column of information and saves it for later under the given variable name\n",
    "y_eval = dfeval.pop('survived')\n",
    "display(dftrain.head())"
   ],
   "execution_count": 8,
   "outputs": [
    {
     "data": {
      "text/plain": "   survived     sex   age  n_siblings_spouses  parch     fare  class     deck  \\\n0         0    male  22.0                   1      0   7.2500  Third  unknown   \n1         1  female  38.0                   1      0  71.2833  First        C   \n2         1  female  26.0                   0      0   7.9250  Third  unknown   \n3         1  female  35.0                   1      0  53.1000  First        C   \n4         0    male  28.0                   0      0   8.4583  Third  unknown   \n\n   embark_town alone  \n0  Southampton     n  \n1    Cherbourg     n  \n2  Southampton     y  \n3  Southampton     n  \n4   Queenstown     y  ",
      "text/html": "<div>\n<style scoped>\n    .dataframe tbody tr th:only-of-type {\n        vertical-align: middle;\n    }\n\n    .dataframe tbody tr th {\n        vertical-align: top;\n    }\n\n    .dataframe thead th {\n        text-align: right;\n    }\n</style>\n<table border=\"1\" class=\"dataframe\">\n  <thead>\n    <tr style=\"text-align: right;\">\n      <th></th>\n      <th>survived</th>\n      <th>sex</th>\n      <th>age</th>\n      <th>n_siblings_spouses</th>\n      <th>parch</th>\n      <th>fare</th>\n      <th>class</th>\n      <th>deck</th>\n      <th>embark_town</th>\n      <th>alone</th>\n    </tr>\n  </thead>\n  <tbody>\n    <tr>\n      <th>0</th>\n      <td>0</td>\n      <td>male</td>\n      <td>22.0</td>\n      <td>1</td>\n      <td>0</td>\n      <td>7.2500</td>\n      <td>Third</td>\n      <td>unknown</td>\n      <td>Southampton</td>\n      <td>n</td>\n    </tr>\n    <tr>\n      <th>1</th>\n      <td>1</td>\n      <td>female</td>\n      <td>38.0</td>\n      <td>1</td>\n      <td>0</td>\n      <td>71.2833</td>\n      <td>First</td>\n      <td>C</td>\n      <td>Cherbourg</td>\n      <td>n</td>\n    </tr>\n    <tr>\n      <th>2</th>\n      <td>1</td>\n      <td>female</td>\n      <td>26.0</td>\n      <td>0</td>\n      <td>0</td>\n      <td>7.9250</td>\n      <td>Third</td>\n      <td>unknown</td>\n      <td>Southampton</td>\n      <td>y</td>\n    </tr>\n    <tr>\n      <th>3</th>\n      <td>1</td>\n      <td>female</td>\n      <td>35.0</td>\n      <td>1</td>\n      <td>0</td>\n      <td>53.1000</td>\n      <td>First</td>\n      <td>C</td>\n      <td>Southampton</td>\n      <td>n</td>\n    </tr>\n    <tr>\n      <th>4</th>\n      <td>0</td>\n      <td>male</td>\n      <td>28.0</td>\n      <td>0</td>\n      <td>0</td>\n      <td>8.4583</td>\n      <td>Third</td>\n      <td>unknown</td>\n      <td>Queenstown</td>\n      <td>y</td>\n    </tr>\n  </tbody>\n</table>\n</div>"
     },
     "metadata": {},
     "output_type": "display_data"
    },
    {
     "data": {
      "text/plain": "      sex   age  n_siblings_spouses  parch     fare  class     deck  \\\n0    male  22.0                   1      0   7.2500  Third  unknown   \n1  female  38.0                   1      0  71.2833  First        C   \n2  female  26.0                   0      0   7.9250  Third  unknown   \n3  female  35.0                   1      0  53.1000  First        C   \n4    male  28.0                   0      0   8.4583  Third  unknown   \n\n   embark_town alone  \n0  Southampton     n  \n1    Cherbourg     n  \n2  Southampton     y  \n3  Southampton     n  \n4   Queenstown     y  ",
      "text/html": "<div>\n<style scoped>\n    .dataframe tbody tr th:only-of-type {\n        vertical-align: middle;\n    }\n\n    .dataframe tbody tr th {\n        vertical-align: top;\n    }\n\n    .dataframe thead th {\n        text-align: right;\n    }\n</style>\n<table border=\"1\" class=\"dataframe\">\n  <thead>\n    <tr style=\"text-align: right;\">\n      <th></th>\n      <th>sex</th>\n      <th>age</th>\n      <th>n_siblings_spouses</th>\n      <th>parch</th>\n      <th>fare</th>\n      <th>class</th>\n      <th>deck</th>\n      <th>embark_town</th>\n      <th>alone</th>\n    </tr>\n  </thead>\n  <tbody>\n    <tr>\n      <th>0</th>\n      <td>male</td>\n      <td>22.0</td>\n      <td>1</td>\n      <td>0</td>\n      <td>7.2500</td>\n      <td>Third</td>\n      <td>unknown</td>\n      <td>Southampton</td>\n      <td>n</td>\n    </tr>\n    <tr>\n      <th>1</th>\n      <td>female</td>\n      <td>38.0</td>\n      <td>1</td>\n      <td>0</td>\n      <td>71.2833</td>\n      <td>First</td>\n      <td>C</td>\n      <td>Cherbourg</td>\n      <td>n</td>\n    </tr>\n    <tr>\n      <th>2</th>\n      <td>female</td>\n      <td>26.0</td>\n      <td>0</td>\n      <td>0</td>\n      <td>7.9250</td>\n      <td>Third</td>\n      <td>unknown</td>\n      <td>Southampton</td>\n      <td>y</td>\n    </tr>\n    <tr>\n      <th>3</th>\n      <td>female</td>\n      <td>35.0</td>\n      <td>1</td>\n      <td>0</td>\n      <td>53.1000</td>\n      <td>First</td>\n      <td>C</td>\n      <td>Southampton</td>\n      <td>n</td>\n    </tr>\n    <tr>\n      <th>4</th>\n      <td>male</td>\n      <td>28.0</td>\n      <td>0</td>\n      <td>0</td>\n      <td>8.4583</td>\n      <td>Third</td>\n      <td>unknown</td>\n      <td>Queenstown</td>\n      <td>y</td>\n    </tr>\n  </tbody>\n</table>\n</div>"
     },
     "metadata": {},
     "output_type": "display_data"
    }
   ]
  },
  {
   "cell_type": "code",
   "metadata": {
    "id": "NvKHmQEsbDU7",
    "colab_type": "code",
    "outputId": "e2df923f-0983-46f0-fb03-646fe7a0ef16",
    "colab": {
     "base_uri": "https://localhost:8080/"
    }
   },
   "source": [
    "#Explore the data\n",
    "dftrain.describe() #Gives overall information on data set"
   ],
   "execution_count": 0,
   "outputs": [
    {
     "output_type": "execute_result",
     "data": {
      "text/html": [
       "<div>\n",
       "<style scoped>\n",
       "    .dataframe tbody tr th:only-of-type {\n",
       "        vertical-align: middle;\n",
       "    }\n",
       "\n",
       "    .dataframe tbody tr th {\n",
       "        vertical-align: top;\n",
       "    }\n",
       "\n",
       "    .dataframe thead th {\n",
       "        text-align: right;\n",
       "    }\n",
       "</style>\n",
       "<table border=\"1\" class=\"dataframe\">\n",
       "  <thead>\n",
       "    <tr style=\"text-align: right;\">\n",
       "      <th></th>\n",
       "      <th>age</th>\n",
       "      <th>n_siblings_spouses</th>\n",
       "      <th>parch</th>\n",
       "      <th>fare</th>\n",
       "    </tr>\n",
       "  </thead>\n",
       "  <tbody>\n",
       "    <tr>\n",
       "      <th>count</th>\n",
       "      <td>627.000000</td>\n",
       "      <td>627.000000</td>\n",
       "      <td>627.000000</td>\n",
       "      <td>627.000000</td>\n",
       "    </tr>\n",
       "    <tr>\n",
       "      <th>mean</th>\n",
       "      <td>29.631308</td>\n",
       "      <td>0.545455</td>\n",
       "      <td>0.379585</td>\n",
       "      <td>34.385399</td>\n",
       "    </tr>\n",
       "    <tr>\n",
       "      <th>std</th>\n",
       "      <td>12.511818</td>\n",
       "      <td>1.151090</td>\n",
       "      <td>0.792999</td>\n",
       "      <td>54.597730</td>\n",
       "    </tr>\n",
       "    <tr>\n",
       "      <th>min</th>\n",
       "      <td>0.750000</td>\n",
       "      <td>0.000000</td>\n",
       "      <td>0.000000</td>\n",
       "      <td>0.000000</td>\n",
       "    </tr>\n",
       "    <tr>\n",
       "      <th>25%</th>\n",
       "      <td>23.000000</td>\n",
       "      <td>0.000000</td>\n",
       "      <td>0.000000</td>\n",
       "      <td>7.895800</td>\n",
       "    </tr>\n",
       "    <tr>\n",
       "      <th>50%</th>\n",
       "      <td>28.000000</td>\n",
       "      <td>0.000000</td>\n",
       "      <td>0.000000</td>\n",
       "      <td>15.045800</td>\n",
       "    </tr>\n",
       "    <tr>\n",
       "      <th>75%</th>\n",
       "      <td>35.000000</td>\n",
       "      <td>1.000000</td>\n",
       "      <td>0.000000</td>\n",
       "      <td>31.387500</td>\n",
       "    </tr>\n",
       "    <tr>\n",
       "      <th>max</th>\n",
       "      <td>80.000000</td>\n",
       "      <td>8.000000</td>\n",
       "      <td>5.000000</td>\n",
       "      <td>512.329200</td>\n",
       "    </tr>\n",
       "  </tbody>\n",
       "</table>\n",
       "</div>"
      ],
      "text/plain": [
       "              age  n_siblings_spouses       parch        fare\n",
       "count  627.000000          627.000000  627.000000  627.000000\n",
       "mean    29.631308            0.545455    0.379585   34.385399\n",
       "std     12.511818            1.151090    0.792999   54.597730\n",
       "min      0.750000            0.000000    0.000000    0.000000\n",
       "25%     23.000000            0.000000    0.000000    7.895800\n",
       "50%     28.000000            0.000000    0.000000   15.045800\n",
       "75%     35.000000            1.000000    0.000000   31.387500\n",
       "max     80.000000            8.000000    5.000000  512.329200"
      ]
     },
     "metadata": {
      "tags": []
     },
     "execution_count": 7
    }
   ]
  },
  {
   "cell_type": "code",
   "metadata": {
    "id": "4dVwpY6EcTm8",
    "colab_type": "code",
    "outputId": "72ddc2f0-9fcd-4886-ed65-bfcdbb5e861c",
    "colab": {
     "base_uri": "https://localhost:8080/"
    }
   },
   "source": [
    "dftrain.shape #Shape of data"
   ],
   "execution_count": 0,
   "outputs": [
    {
     "output_type": "execute_result",
     "data": {
      "text/plain": [
       "(627, 9)"
      ]
     },
     "metadata": {
      "tags": []
     },
     "execution_count": 8
    }
   ]
  },
  {
   "cell_type": "code",
   "metadata": {
    "id": "TkA-dBIPctp8",
    "colab_type": "code",
    "outputId": "61bddeaf-7a26-41c5-9223-4e330174e507",
    "colab": {
     "base_uri": "https://localhost:8080/"
    }
   },
   "source": [
    "dftrain.age.hist(bins=20) #bins-increments of graphing"
   ],
   "execution_count": 11,
   "outputs": [
    {
     "data": {
      "text/plain": "<AxesSubplot:>"
     },
     "execution_count": 11,
     "metadata": {},
     "output_type": "execute_result"
    },
    {
     "data": {
      "text/plain": "<Figure size 432x288 with 1 Axes>",
      "image/png": "[encoded data removed]"
     },
     "metadata": {
      "needs_background": "light"
     },
     "output_type": "display_data"
    }
   ]
  },
  {
   "cell_type": "code",
   "metadata": {
    "id": "Bj8dtRtHdBhB",
    "colab_type": "code",
    "outputId": "05378d9e-e76b-41ba-c81b-0b0d72d377f4",
    "colab": {
     "base_uri": "https://localhost:8080/"
    }
   },
   "source": [
    "dftrain.sex.value_counts().plot(kind='barh')"
   ],
   "execution_count": 0,
   "outputs": [
    {
     "output_type": "execute_result",
     "data": {
      "text/plain": [
       "<matplotlib.axes._subplots.AxesSubplot at 0x7f77630b5d30>"
      ]
     },
     "metadata": {
      "tags": []
     },
     "execution_count": 10
    },
    {
     "output_type": "display_data",
     "data": {
      "image/png": "[encoded data removed]",
      "text/plain": [
       "<Figure size 432x288 with 1 Axes>"
      ]
     },
     "metadata": {
      "tags": [],
      "needs_background": "light"
     }
    }
   ]
  },
  {
   "cell_type": "code",
   "metadata": {
    "id": "HfcT-YsEdU-B",
    "colab_type": "code",
    "outputId": "da31872a-eb68-4d94-97b5-bb82be8bdeff",
    "colab": {
     "base_uri": "https://localhost:8080/"
    }
   },
   "source": [
    "dftrain['class'].value_counts().plot(kind='barh')"
   ],
   "execution_count": 0,
   "outputs": [
    {
     "output_type": "execute_result",
     "data": {
      "text/plain": [
       "<matplotlib.axes._subplots.AxesSubplot at 0x7f7762bf1400>"
      ]
     },
     "metadata": {
      "tags": []
     },
     "execution_count": 11
    },
    {
     "output_type": "display_data",
     "data": {
      "image/png": "[encoded data removed]",
      "text/plain": [
       "<Figure size 432x288 with 1 Axes>"
      ]
     },
     "metadata": {
      "tags": [],
      "needs_background": "light"
     }
    }
   ]
  },
  {
   "cell_type": "code",
   "metadata": {
    "id": "kFfwi2mAdZCf",
    "colab_type": "code",
    "outputId": "dcc62094-f79f-4e1f-d3b2-27e2a98dca79",
    "colab": {
     "base_uri": "https://localhost:8080/"
    }
   },
   "source": [
    "pd.concat([dftrain, y_train], axis=1).groupby('sex').survived.mean().plot(kind='barh').set_xlabel('% survive')"
   ],
   "execution_count": 0,
   "outputs": [
    {
     "output_type": "execute_result",
     "data": {
      "text/plain": [
       "Text(0.5, 0, '% survive')"
      ]
     },
     "metadata": {
      "tags": []
     },
     "execution_count": 12
    },
    {
     "output_type": "display_data",
     "data": {
      "image/png": "[encoded data removed]",
      "text/plain": [
       "<Figure size 432x288 with 1 Axes>"
      ]
     },
     "metadata": {
      "tags": [],
      "needs_background": "light"
     }
    }
   ]
  },
  {
   "cell_type": "markdown",
   "metadata": {
    "id": "zVyZQf4Seitd",
    "colab_type": "text"
   },
   "source": [
    "- Most passengers are in their 20's or 30's\n",
    "- Most passengers are male\n",
    "- Most passengers are in \"Third\" class\n",
    "- Females have a much higher chance of survival"
   ]
  },
  {
   "cell_type": "markdown",
   "source": [
    "## Training vs Testing"
   ],
   "metadata": {
    "collapsed": false
   }
  },
  {
   "cell_type": "markdown",
   "metadata": {
    "id": "cYGmfiw2e1aj",
    "colab_type": "text"
   },
   "source": [
    "**Training data** is what we feed to the model so that it can develop and learn.\n",
    "\n",
    "**Testing data** is what we use to evaulate the model and see how well it is performing. "
   ]
  },
  {
   "cell_type": "code",
   "metadata": {
    "id": "pwzKVjxzdcD4",
    "colab_type": "code",
    "colab": {}
   },
   "source": [
    "# Categorize the data"
   ],
   "execution_count": 0,
   "outputs": []
  },
  {
   "cell_type": "markdown",
   "metadata": {
    "id": "ywzanI1Sgf7k",
    "colab_type": "text"
   },
   "source": [
    "**Categorical data** - non-numerical data that can be placed under a specified field\n",
    "- Note: Categorical data can be represented by numbers to identify the categories they belong to. (ex: Male = 1, Female = 0)\n",
    "\n",
    "**Numerical data** - data that's represented by numbers"
   ]
  },
  {
   "cell_type": "code",
   "metadata": {
    "id": "jF87tkcwe-mw",
    "colab_type": "code",
    "colab": {}
   },
   "source": [
    "CATEGORICAL_COLUMNS = ['sex', 'n_siblings_spouses', 'parch', 'class', 'deck',\n",
    "                       'embark_town', 'alone']\n",
    "NUMERIC_COLUMNS = ['age', 'fare']"
   ],
   "execution_count": 12,
   "outputs": []
  },
  {
   "cell_type": "code",
   "metadata": {
    "id": "_orfKwlhh0Mn",
    "colab_type": "code",
    "outputId": "e978ab8d-5be9-4ac1-abd6-ff262d53cba7",
    "colab": {
     "base_uri": "https://localhost:8080/"
    }
   },
   "source": [
    "dftrain['class'].unique() #.unique() gives all of the unique values withing the dataset (the names of the different data elements)"
   ],
   "execution_count": 13,
   "outputs": [
    {
     "data": {
      "text/plain": "array(['Third', 'First', 'Second'], dtype=object)"
     },
     "execution_count": 13,
     "metadata": {},
     "output_type": "execute_result"
    }
   ]
  },
  {
   "cell_type": "code",
   "metadata": {
    "id": "nesKdX_MhfWm",
    "colab_type": "code",
    "outputId": "145a0597-a6ab-4b46-acb5-c296a6c11ea7",
    "colab": {
     "base_uri": "https://localhost:8080/"
    }
   },
   "source": [
    "feature_columns = []\n",
    "for feature_name in CATEGORICAL_COLUMNS:\n",
    "  vocabulary = dftrain[feature_name].unique()  # gets a list of all unique values from given feature column\n",
    "  #Create a column of feature names with the different associated vocabulary terms\n",
    "  feature_columns.append(tf.feature_column.categorical_column_with_vocabulary_list(feature_name, vocabulary))\n",
    "\n",
    "for feature_name in NUMERIC_COLUMNS:\n",
    "  feature_columns.append(tf.feature_column.numeric_column(feature_name, dtype=tf.float32))\n",
    "\n",
    "print(feature_columns)"
   ],
   "execution_count": 14,
   "outputs": [
    {
     "name": "stdout",
     "output_type": "stream",
     "text": [
      "[VocabularyListCategoricalColumn(key='sex', vocabulary_list=('male', 'female'), dtype=tf.string, default_value=-1, num_oov_buckets=0), VocabularyListCategoricalColumn(key='n_siblings_spouses', vocabulary_list=(1, 0, 3, 4, 2, 5, 8), dtype=tf.int64, default_value=-1, num_oov_buckets=0), VocabularyListCategoricalColumn(key='parch', vocabulary_list=(0, 1, 2, 5, 3, 4), dtype=tf.int64, default_value=-1, num_oov_buckets=0), VocabularyListCategoricalColumn(key='class', vocabulary_list=('Third', 'First', 'Second'), dtype=tf.string, default_value=-1, num_oov_buckets=0), VocabularyListCategoricalColumn(key='deck', vocabulary_list=('unknown', 'C', 'G', 'A', 'B', 'D', 'F', 'E'), dtype=tf.string, default_value=-1, num_oov_buckets=0), VocabularyListCategoricalColumn(key='embark_town', vocabulary_list=('Southampton', 'Cherbourg', 'Queenstown', 'unknown'), dtype=tf.string, default_value=-1, num_oov_buckets=0), VocabularyListCategoricalColumn(key='alone', vocabulary_list=('n', 'y'), dtype=tf.string, default_value=-1, num_oov_buckets=0), NumericColumn(key='age', shape=(1,), default_value=None, dtype=tf.float32, normalizer_fn=None), NumericColumn(key='fare', shape=(1,), default_value=None, dtype=tf.float32, normalizer_fn=None)]\n"
     ]
    }
   ]
  },
  {
   "cell_type": "markdown",
   "metadata": {
    "id": "dyDLCCiM5MP0",
    "colab_type": "text"
   },
   "source": [
    "### Training process \n",
    "*  Models must be fed the data in batches\n",
    "* Batches are fed according to Epochs \n",
    "  * Epochs are how many times the model will see the same data. Feeding the data to the model in variations\n",
    "  Note: Over feeding the model can harm the outcome so feed it a little at a time.\n",
    "  "
   ]
  },
  {
   "cell_type": "markdown",
   "metadata": {
    "id": "GhNNjHM75s6y",
    "colab_type": "text"
   },
   "source": [
    "### Input Function for Linear Regression\n",
    "The TensorFlow model we are going to use requires that the data we pass it comes in as a tf.data.Dataset object. This means we must create a **input function** that can **convert** our current **pandas dataframe into that object.**"
   ]
  },
  {
   "cell_type": "code",
   "metadata": {
    "id": "Gbf4QkyQjUOr",
    "colab_type": "code",
    "colab": {}
   },
   "source": [
    "def make_input_fn(data_df, label_df, num_epochs=10, shuffle=True, batch_size=32):\n",
    "  def input_function():  # inner function, this will be returned\n",
    "    ds = tf.data.Dataset.from_tensor_slices((dict(data_df), label_df))  # create tf.data.Dataset object with data and its label\n",
    "    if shuffle:\n",
    "      ds = ds.shuffle(1000)  # randomize order of data\n",
    "    ds = ds.batch(batch_size).repeat(num_epochs)  # split dataset into batches of 32 and repeat process for number of epochs\n",
    "    return ds  # return a batch of the dataset\n",
    "  return input_function  # return a function object for use\n",
    "\n",
    "train_input_fn = make_input_fn(dftrain, y_train)  # here we will call the input_function that was returned to us to get a dataset object we can feed to the model\n",
    "eval_input_fn = make_input_fn(dfeval, y_eval, num_epochs=1, shuffle=False) #num_epochs is 1 because we aren't training this dataset like the line above. Shuffle is False because we don't need to shuffle since we are testing it."
   ],
   "execution_count": 0,
   "outputs": []
  },
  {
   "cell_type": "markdown",
   "metadata": {
    "id": "gHXKA0Uh6Qq6",
    "colab_type": "text"
   },
   "source": [
    "### Creating the Linear Regression Model\n",
    "\n",
    "Here we will use a **linear estimator** utilize the linear regression algorithm.\n"
   ]
  },
  {
   "cell_type": "code",
   "metadata": {
    "id": "U11rchVf51L3",
    "colab_type": "code",
    "outputId": "700b4ec7-0159-4c04-8a3b-485e0ea36acd",
    "colab": {
     "base_uri": "https://localhost:8080/"
    }
   },
   "source": [
    "linear_est = tf.estimator.LinearClassifier(feature_columns=feature_columns)\n",
    "# We create a linear estimtor by passing the feature columns we created earlier through an estimator module\n",
    "\n",
    "linear_est.train(train_input_fn)  # train\n",
    "result = linear_est.evaluate(eval_input_fn)  # get model metrics/stats by testing data\n",
    "\n",
    "clear_output()  # clears console output\n",
    "print(result['accuracy'])  # the result variable is simply a dict of stats about our model that tells the accuracy of it\n",
    "#Accuracy - compares the dataset results with models predicted results to get the accuracy of the data\n",
    "print(result)"
   ],
   "execution_count": 0,
   "outputs": [
    {
     "output_type": "stream",
     "text": [
      "0.75\n",
      "{'accuracy': 0.75, 'accuracy_baseline': 0.625, 'auc': 0.8289561, 'auc_precision_recall': 0.76417667, 'average_loss': 0.5133544, 'label/mean': 0.375, 'loss': 0.5106846, 'precision': 0.6363636, 'prediction/mean': 0.45520076, 'recall': 0.7777778, 'global_step': 200}\n"
     ],
     "name": "stdout"
    }
   ]
  },
  {
   "cell_type": "markdown",
   "metadata": {
    "id": "fyXwWCwp7yHY",
    "colab_type": "text"
   },
   "source": [
    "### Predicting the data set with the model\n",
    "\n",
    "How to make predictions for every point in the evaluation data set\n",
    "\n",
    "\n"
   ]
  },
  {
   "cell_type": "code",
   "metadata": {
    "id": "Q2UcXp5b7QqX",
    "colab_type": "code",
    "outputId": "ca85a1ea-c75c-4ace-95f2-1cc1fbbeb404",
    "colab": {
     "base_uri": "https://localhost:8080/"
    }
   },
   "source": [
    "#Check the predictions of the model\n",
    "#Here we will turn the results into a list to get a dictionary of all points and predictions\n",
    "result = list(linear_est.predict(eval_input_fn))\n",
    "#print(result[0])\n",
    "#Here are looking for the 'probabilities' dict because it will help us to see the probability that someone will survive or won't survive\n",
    "#Look for this --> {'probabilities': array([0.9108078 (<--won't survive(0)) , 0.08919217 (<-- will survive(1))]}\n",
    "\n",
    "#Here we will print the probability of survival (1)\n",
    "print(result[0]['probabilities'][0]) #Format: [passenger/data point][data set dict][outcome (survival)]"
   ],
   "execution_count": 0,
   "outputs": [
    {
     "output_type": "stream",
     "text": [
      "INFO:tensorflow:Calling model_fn.\n",
      "WARNING:tensorflow:Layer linear/linear_model is casting an input tensor from dtype float64 to the layer's dtype of float32, which is new behavior in TensorFlow 2.  The layer has dtype float32 because it's dtype defaults to floatx.\n",
      "\n",
      "If you intended to run this layer in float32, you can safely ignore this warning. If in doubt, this warning is likely only an issue if you are porting a TensorFlow 1.X model to TensorFlow 2.\n",
      "\n",
      "To change all layers to have dtype float64 by default, call `tf.keras.backend.set_floatx('float64')`. To change just this layer, pass dtype='float64' to the layer constructor. If you are the author of this layer, you can disable autocasting by passing autocast=False to the base Layer constructor.\n",
      "\n",
      "INFO:tensorflow:Done calling model_fn.\n",
      "INFO:tensorflow:Graph was finalized.\n",
      "INFO:tensorflow:Restoring parameters from /tmp/tmpti5yf2yb/model.ckpt-200\n",
      "INFO:tensorflow:Running local_init_op.\n",
      "INFO:tensorflow:Done running local_init_op.\n",
      "0.9044733\n"
     ],
     "name": "stdout"
    }
   ]
  },
  {
   "cell_type": "markdown",
   "metadata": {
    "id": "hkqMOJpV1W8E",
    "colab_type": "text"
   },
   "source": [
    "To put this together we can evaluate the passengers' attributes to see if the prediction makes sense with the dfeval.loc[ ] method  "
   ]
  },
  {
   "cell_type": "code",
   "metadata": {
    "id": "6mjZmP1lxkiM",
    "colab_type": "code",
    "outputId": "3a13b463-9c77-4088-b60e-0c4a40f903c6",
    "colab": {
     "base_uri": "https://localhost:8080/"
    }
   },
   "source": [
    "print(dfeval.loc[36])\n",
    "print(y_eval.loc[36])\n",
    "print(result[36]['probabilities'][1]) \n",
    "#This will give us the passengers details and their chance of survival and if they survived"
   ],
   "execution_count": 0,
   "outputs": [
    {
     "output_type": "stream",
     "text": [
      "sex                          male\n",
      "age                          36.5\n",
      "n_siblings_spouses              0\n",
      "parch                           2\n",
      "fare                           26\n",
      "class                      Second\n",
      "deck                            F\n",
      "embark_town           Southampton\n",
      "alone                           n\n",
      "Name: 36, dtype: object\n",
      "0\n",
      "0.26806477\n"
     ],
     "name": "stdout"
    }
   ]
  },
  {
   "cell_type": "markdown",
   "metadata": {
    "id": "KMZ9SRQE38te",
    "colab_type": "text"
   },
   "source": [
    "## Classification\n",
    "Differentiating data points and separating them into classes. Predicting the probability that the data point is in specified classes. "
   ]
  },
  {
   "cell_type": "markdown",
   "metadata": {
    "id": "op51fZxt5Sur",
    "colab_type": "text"
   },
   "source": [
    "### Dataset\n",
    "This specific dataset seperates flowers into 3 different classes of species.\n",
    "\n",
    "* Setosa\n",
    "* Versicolor\n",
    "* Virginica\n",
    "\n",
    "The information about each flower is the following.\n",
    "\n",
    "* sepal length\n",
    "* sepal width\n",
    "* petal length\n",
    "* petal width"
   ]
  },
  {
   "cell_type": "code",
   "metadata": {
    "id": "gkl1Ccip5R3z",
    "colab_type": "code",
    "colab": {}
   },
   "source": [
    "CSV_COLUMN_NAMES = ['SepalLength', 'SepalWidth', 'PetalLength', 'PetalWidth', 'Species']\n",
    "SPECIES = ['Setosa', 'Versicolor', 'Virginica']\n",
    "# Lets define some constants to help us later on"
   ],
   "execution_count": 0,
   "outputs": []
  },
  {
   "cell_type": "code",
   "metadata": {
    "id": "arIFAw7U2Hcf",
    "colab_type": "code",
    "outputId": "cc66e61e-0ad1-4a50-91ce-23650b4cd350",
    "colab": {
     "base_uri": "https://localhost:8080/",
     "height": 107
    }
   },
   "source": [
    "#Call in the data set\n",
    "train_path = tf.keras.utils.get_file(\n",
    "    \"iris_training.csv\", \"https://storage.googleapis.com/download.tensorflow.org/data/iris_training.csv\")\n",
    "test_path = tf.keras.utils.get_file(\n",
    "    \"iris_test.csv\", \"https://storage.googleapis.com/download.tensorflow.org/data/iris_test.csv\")\n",
    "\n",
    "train = pd.read_csv(train_path, names=CSV_COLUMN_NAMES, header=0)\n",
    "test = pd.read_csv(test_path, names=CSV_COLUMN_NAMES, header=0)\n",
    "# Here we use keras (a module inside of TensorFlow) to grab our datasets and read them into a pandas dataframe"
   ],
   "execution_count": 0,
   "outputs": [
    {
     "output_type": "stream",
     "text": [
      "Downloading data from https://storage.googleapis.com/download.tensorflow.org/data/iris_training.csv\n",
      "8192/2194 [================================================================================================================] - 0s 0us/step\n",
      "Downloading data from https://storage.googleapis.com/download.tensorflow.org/data/iris_test.csv\n",
      "8192/573 [============================================================================================================================================================================================================================================================================================================================================================================================================================================] - 0s 0us/step\n"
     ],
     "name": "stdout"
    }
   ]
  },
  {
   "cell_type": "code",
   "metadata": {
    "id": "eemrOkOl6DRP",
    "colab_type": "code",
    "outputId": "d429c7fe-8f21-4f96-a047-f500bcbe14c3",
    "colab": {
     "base_uri": "https://localhost:8080/",
     "height": 197
    }
   },
   "source": [
    "train.head()"
   ],
   "execution_count": 0,
   "outputs": [
    {
     "output_type": "execute_result",
     "data": {
      "text/html": [
       "<div>\n",
       "<style scoped>\n",
       "    .dataframe tbody tr th:only-of-type {\n",
       "        vertical-align: middle;\n",
       "    }\n",
       "\n",
       "    .dataframe tbody tr th {\n",
       "        vertical-align: top;\n",
       "    }\n",
       "\n",
       "    .dataframe thead th {\n",
       "        text-align: right;\n",
       "    }\n",
       "</style>\n",
       "<table border=\"1\" class=\"dataframe\">\n",
       "  <thead>\n",
       "    <tr style=\"text-align: right;\">\n",
       "      <th></th>\n",
       "      <th>SepalLength</th>\n",
       "      <th>SepalWidth</th>\n",
       "      <th>PetalLength</th>\n",
       "      <th>PetalWidth</th>\n",
       "      <th>Species</th>\n",
       "    </tr>\n",
       "  </thead>\n",
       "  <tbody>\n",
       "    <tr>\n",
       "      <th>0</th>\n",
       "      <td>6.4</td>\n",
       "      <td>2.8</td>\n",
       "      <td>5.6</td>\n",
       "      <td>2.2</td>\n",
       "      <td>2</td>\n",
       "    </tr>\n",
       "    <tr>\n",
       "      <th>1</th>\n",
       "      <td>5.0</td>\n",
       "      <td>2.3</td>\n",
       "      <td>3.3</td>\n",
       "      <td>1.0</td>\n",
       "      <td>1</td>\n",
       "    </tr>\n",
       "    <tr>\n",
       "      <th>2</th>\n",
       "      <td>4.9</td>\n",
       "      <td>2.5</td>\n",
       "      <td>4.5</td>\n",
       "      <td>1.7</td>\n",
       "      <td>2</td>\n",
       "    </tr>\n",
       "    <tr>\n",
       "      <th>3</th>\n",
       "      <td>4.9</td>\n",
       "      <td>3.1</td>\n",
       "      <td>1.5</td>\n",
       "      <td>0.1</td>\n",
       "      <td>0</td>\n",
       "    </tr>\n",
       "    <tr>\n",
       "      <th>4</th>\n",
       "      <td>5.7</td>\n",
       "      <td>3.8</td>\n",
       "      <td>1.7</td>\n",
       "      <td>0.3</td>\n",
       "      <td>0</td>\n",
       "    </tr>\n",
       "  </tbody>\n",
       "</table>\n",
       "</div>"
      ],
      "text/plain": [
       "   SepalLength  SepalWidth  PetalLength  PetalWidth  Species\n",
       "0          6.4         2.8          5.6         2.2        2\n",
       "1          5.0         2.3          3.3         1.0        1\n",
       "2          4.9         2.5          4.5         1.7        2\n",
       "3          4.9         3.1          1.5         0.1        0\n",
       "4          5.7         3.8          1.7         0.3        0"
      ]
     },
     "metadata": {
      "tags": []
     },
     "execution_count": 23
    }
   ]
  },
  {
   "cell_type": "code",
   "metadata": {
    "id": "_lU-guKU6QRC",
    "colab_type": "code",
    "outputId": "fdfb7039-d022-4fdb-877f-993eeddce141",
    "colab": {
     "base_uri": "https://localhost:8080/",
     "height": 197
    }
   },
   "source": [
    "train_y = train.pop('Species')\n",
    "test_y = test.pop('Species')\n",
    "train.head() # the species column is now gone"
   ],
   "execution_count": 0,
   "outputs": [
    {
     "output_type": "execute_result",
     "data": {
      "text/html": [
       "<div>\n",
       "<style scoped>\n",
       "    .dataframe tbody tr th:only-of-type {\n",
       "        vertical-align: middle;\n",
       "    }\n",
       "\n",
       "    .dataframe tbody tr th {\n",
       "        vertical-align: top;\n",
       "    }\n",
       "\n",
       "    .dataframe thead th {\n",
       "        text-align: right;\n",
       "    }\n",
       "</style>\n",
       "<table border=\"1\" class=\"dataframe\">\n",
       "  <thead>\n",
       "    <tr style=\"text-align: right;\">\n",
       "      <th></th>\n",
       "      <th>SepalLength</th>\n",
       "      <th>SepalWidth</th>\n",
       "      <th>PetalLength</th>\n",
       "      <th>PetalWidth</th>\n",
       "    </tr>\n",
       "  </thead>\n",
       "  <tbody>\n",
       "    <tr>\n",
       "      <th>0</th>\n",
       "      <td>6.4</td>\n",
       "      <td>2.8</td>\n",
       "      <td>5.6</td>\n",
       "      <td>2.2</td>\n",
       "    </tr>\n",
       "    <tr>\n",
       "      <th>1</th>\n",
       "      <td>5.0</td>\n",
       "      <td>2.3</td>\n",
       "      <td>3.3</td>\n",
       "      <td>1.0</td>\n",
       "    </tr>\n",
       "    <tr>\n",
       "      <th>2</th>\n",
       "      <td>4.9</td>\n",
       "      <td>2.5</td>\n",
       "      <td>4.5</td>\n",
       "      <td>1.7</td>\n",
       "    </tr>\n",
       "    <tr>\n",
       "      <th>3</th>\n",
       "      <td>4.9</td>\n",
       "      <td>3.1</td>\n",
       "      <td>1.5</td>\n",
       "      <td>0.1</td>\n",
       "    </tr>\n",
       "    <tr>\n",
       "      <th>4</th>\n",
       "      <td>5.7</td>\n",
       "      <td>3.8</td>\n",
       "      <td>1.7</td>\n",
       "      <td>0.3</td>\n",
       "    </tr>\n",
       "  </tbody>\n",
       "</table>\n",
       "</div>"
      ],
      "text/plain": [
       "   SepalLength  SepalWidth  PetalLength  PetalWidth\n",
       "0          6.4         2.8          5.6         2.2\n",
       "1          5.0         2.3          3.3         1.0\n",
       "2          4.9         2.5          4.5         1.7\n",
       "3          4.9         3.1          1.5         0.1\n",
       "4          5.7         3.8          1.7         0.3"
      ]
     },
     "metadata": {
      "tags": []
     },
     "execution_count": 24
    }
   ]
  },
  {
   "cell_type": "code",
   "metadata": {
    "id": "uPYKsNu66mCT",
    "colab_type": "code",
    "outputId": "2213bd4b-d669-4d09-8c2b-48970e645817",
    "colab": {
     "base_uri": "https://localhost:8080/",
     "height": 34
    }
   },
   "source": [
    "train.shape"
   ],
   "execution_count": 0,
   "outputs": [
    {
     "output_type": "execute_result",
     "data": {
      "text/plain": [
       "(120, 4)"
      ]
     },
     "metadata": {
      "tags": []
     },
     "execution_count": 25
    }
   ]
  },
  {
   "cell_type": "markdown",
   "metadata": {
    "id": "GGTDLr_t7uHd",
    "colab_type": "text"
   },
   "source": [
    "### Input Function for Classification"
   ]
  },
  {
   "cell_type": "code",
   "metadata": {
    "id": "q_vQWLXY6rRA",
    "colab_type": "code",
    "outputId": "13935eb7-1ae5-46b1-f28a-398075e49b10",
    "colab": {
     "base_uri": "https://localhost:8080/",
     "height": 132
    }
   },
   "source": [
    "def input_fn(features, labels, training=True, batch_size=256):\n",
    "    # Convert the inputs to a Dataset.\n",
    "    dataset = tf.data.Dataset.from_tensor_slices((dict(features), labels))\n",
    "\n",
    "    # Shuffling and repeat if you are in training mode.\n",
    "    if training:\n",
    "        dataset = dataset.shuffle(1000).repeat()\n",
    "\n",
    "    return dataset.batch(batch_size)\n",
    "\n",
    "# Feature columns describe how to use the input. We don't need the numerical of the previous input function because we're looking for the key values\n",
    "my_feature_columns = []\n",
    "#this code will loop through all of the keys in the dataset\n",
    "for key in train.keys():\n",
    "    my_feature_columns.append(tf.feature_column.numeric_column(key=key))\n",
    "print(my_feature_columns)"
   ],
   "execution_count": 0,
   "outputs": [
    {
     "output_type": "error",
     "ename": "SyntaxError",
     "evalue": "ignored",
     "traceback": [
      "\u001B[0;36m  File \u001B[0;32m\"<ipython-input-26-d2c02355bbce>\"\u001B[0;36m, line \u001B[0;32m5\u001B[0m\n\u001B[0;31m    ert the inputs to a Dataset.\u001B[0m\n\u001B[0m          ^\u001B[0m\n\u001B[0;31mSyntaxError\u001B[0m\u001B[0;31m:\u001B[0m invalid syntax\n"
     ]
    }
   ]
  },
  {
   "cell_type": "markdown",
   "metadata": {
    "id": "Ag1dTns48uMc",
    "colab_type": "text"
   },
   "source": [
    "## Building the Classification Model\n",
    "\n",
    "Here we will use the DNN Classifier (Deep Neural Network)"
   ]
  },
  {
   "cell_type": "code",
   "metadata": {
    "id": "c9SDMlkf8J8z",
    "colab_type": "code",
    "colab": {}
   },
   "source": [
    "# Build a DNN with 2 hidden layers with 30 and 10 hidden nodes each.\n",
    "classifier = tf.estimator.DNNClassifier(\n",
    "    feature_columns=my_feature_columns,\n",
    "    # Two hidden layers of 30 and 10 nodes respectively.\n",
    "    hidden_units=[30, 10],\n",
    "    # The model must choose between 3 classes.\n",
    "    n_classes=3)"
   ],
   "execution_count": 0,
   "outputs": []
  },
  {
   "cell_type": "code",
   "metadata": {
    "id": "ZTW8OsBW-Koh",
    "colab_type": "code",
    "colab": {}
   },
   "source": [
    "#Here we trained the model\n",
    "classifier.train(\n",
    "    input_fn=lambda: input_fn(train, train_y, training=True),\n",
    "    steps=5000)\n",
    "# We include a lambda to avoid creating an inner function previously"
   ],
   "execution_count": 0,
   "outputs": []
  },
  {
   "cell_type": "code",
   "metadata": {
    "id": "omHaMKYJ_JyD",
    "colab_type": "code",
    "colab": {}
   },
   "source": [
    "#Here we will evaluate the model\n",
    "#We didn't specify the number of steps because during evaluation the model will only look at the testing data one time.\n",
    "eval_result = classifier.evaluate(\n",
    "    input_fn=lambda: input_fn(test, test_y, training=False))\n",
    "\n",
    "print('\\nTest set accuracy: {accuracy:0.3f}\\n'.format(**eval_result))"
   ],
   "execution_count": 0,
   "outputs": []
  },
  {
   "cell_type": "markdown",
   "metadata": {
    "id": "pKBuojugA3cI",
    "colab_type": "text"
   },
   "source": []
  },
  {
   "cell_type": "code",
   "metadata": {
    "id": "uFTAoOYFActO",
    "colab_type": "code",
    "colab": {}
   },
   "source": [
    "def input_fn(features, batch_size=256):\n",
    "    # Convert the inputs to a Dataset without labels.\n",
    "    return tf.data.Dataset.from_tensor_slices(dict(features)).batch(batch_size)\n",
    "\n",
    "features = ['SepalLength', 'SepalWidth', 'PetalLength', 'PetalWidth']\n",
    "predict = {}\n",
    "\n",
    "print(\"Please type numeric values as prompted.\")\n",
    "for feature in features:\n",
    "  valid = True\n",
    "  while valid: \n",
    "    val = input(feature + \": \")\n",
    "    if not val.isdigit(): valid = False\n",
    "\n",
    "  predict[feature] = [float(val)]\n",
    "\n",
    "predictions = classifier.predict(input_fn=lambda: input_fn(predict))\n",
    "for pred_dict in predictions:\n",
    "    class_id = pred_dict['class_ids'][0]\n",
    "    probability = pred_dict['probabilities'][class_id]\n",
    "\n",
    "    print('Prediction is \"{}\" ({:.1f}%)'.format(\n",
    "        SPECIES[class_id], 100 * probability))"
   ],
   "execution_count": 0,
   "outputs": []
  },
  {
   "cell_type": "code",
   "metadata": {
    "id": "CWiHaZIlCq2H",
    "colab_type": "code",
    "colab": {}
   },
   "source": [
    "print(pred_dict)\n",
    "\n",
    "#Probability percentage tells you how likely the data point is to be classified as the key value predictions.\n",
    "#Class ID tells you what value the prediction is from the original list."
   ],
   "execution_count": 0,
   "outputs": []
  },
  {
   "cell_type": "markdown",
   "metadata": {
    "id": "RzP2QYFDA0DN",
    "colab_type": "text"
   },
   "source": [
    "## Clustering\n",
    "\n",
    "**Clustering** is an *unsupervised learning algorithm*. It finds clusters of like data and tells you the location of the clusters. \n",
    "\n",
    "### Basic Algorithm for K-Means.\n",
    "- Step 1: Randomly pick K points to place K centroids\n",
    "  - **Centroids** are the base of a cluster and tells you where the needed cluster is.\n",
    "- Step 2: Assign all the data points to the centroids by distance. The closest centroid to a point is the one it is assigned to.\n",
    "- Step 3: Average all the points belonging to each centroid to find the middle of those clusters (center of mass). Place the corresponding centroids into that position.\n",
    "- Step 4: Reassign every point once again to the closest centroid.\n",
    "- Step 5: Repeat steps 3-4 until no point changes which centroid it belongs to."
   ]
  },
  {
   "cell_type": "markdown",
   "metadata": {
    "id": "-f47NKw5JFQ7",
    "colab_type": "text"
   },
   "source": [
    "## Hidden Markov Models\n",
    "\"The Hidden Markov Model is a finite set of states, each of which is associated with a (generally multidimensional) probability distribution []. Transitions among the states are governed by a set of probabilities called transition probabilities.\" (http://jedlik.phy.bme.hu/~gerjanos/HMM/node4.html)\n",
    "\n",
    "A hidden markov model works with probabilities to predict future events or states. In this section we will learn how to create a hidden markov model that can predict the weather.\n",
    "\n",
    "This section is based on the following TensorFlow tutorial. https://www.tensorflow.org/probability/api_docs/python/tfp/distributions/HiddenMarkovModel\n",
    "\n",
    "### Data\n",
    "Let's start by discussing the type of data we use when we work with a hidden markov model.\n",
    "\n",
    "In the previous sections we worked with large datasets of 100's of different entries. For a markov model we are only interested in probability distributions that have to do with states.\n",
    "\n",
    "We can find these probabilities from large datasets or may already have these values. We'll run through an example in a second that should clear some things up, but let's discuss the components of a markov model.\n",
    "\n",
    "**States**: In each markov model we have a finite set of states. These states could be something like \"warm\" and \"cold\" or \"high\" and \"low\" or even \"red\", \"green\" and \"blue\". These states are \"hidden\" within the model, which means we do not direcly observe them.\n",
    "\n",
    "**Observations**: Each state has a particular outcome or observation associated with it based on a probability distribution. An example of this is the following: On a hot day Tim has a 80% chance of being happy and a 20% chance of being sad.\n",
    "\n",
    "**Transitions**: Each state will have a probability defining the likelyhood of transitioning to a different state. An example is the following: a cold day has a 30% chance of being followed by a hot day and a 70% chance of being follwed by another cold day.\n",
    "\n",
    "To create a hidden markov model we need.\n",
    "\n",
    "- States\n",
    "- Observation Distribution\n",
    "- Transition Distribution\n",
    "\n",
    "\n",
    "For our purpose we will assume we already have this information available as we attempt to predict the weather on a given day."
   ]
  },
  {
   "cell_type": "code",
   "metadata": {
    "id": "iCGGWjkGRvj_",
    "colab_type": "code",
    "colab": {}
   },
   "source": [
    "!pip install tensorflow_probability==0.8.0rc0 --user --upgrade"
   ],
   "execution_count": 0,
   "outputs": []
  },
  {
   "cell_type": "code",
   "metadata": {
    "id": "71eqGzF8RWv8",
    "colab_type": "code",
    "colab": {}
   },
   "source": [
    "%tensorflow_version 2.x\n",
    "import tensorflow_probability as tfp  # We are using a different module from tensorflow this time\n",
    "import tensorflow as tf\n",
    "import numpy as np\n"
   ],
   "execution_count": 0,
   "outputs": []
  },
  {
   "cell_type": "markdown",
   "metadata": {
    "id": "cenp3DTieuEf",
    "colab_type": "text"
   },
   "source": [
    "Here we coded a model for the following:\n",
    "\n",
    "1. Cold days are encoded by a 0 and hot days are encoded by a 1.\n",
    "2. The first day in our sequence has an 80% chance of being cold.\n",
    "3. A cold day has a 30% chance of being followed by a hot day.\n",
    "4. A hot day has a 20% chance of being followed by a cold day.\n",
    "5. On each day the temperature is normally distributed with mean and standard deviation 0 and 5 on a cold day and mean and standard deviation 15 and 10 on a hot day.\n",
    "\n",
    "**Standard deviation** gives us the range of values above or below the mean\n"
   ]
  },
  {
   "cell_type": "code",
   "metadata": {
    "id": "M5wwoVekEHm5",
    "colab_type": "code",
    "colab": {}
   },
   "source": [
    "#Here we create probability of distribution model\n",
    "tfd = tfp.distributions  # making a shortcut for later on\n",
    "#bracket probability representation - [Cold Day, Hot Day]\n",
    "initial_distribution = tfd.Categorical(probs=[0.8, 0.2])  # Refer to point 2 above\n",
    "transition_distribution = tfd.Categorical(probs=[[0.7, 0.3],\n",
    "                                                 [0.2, 0.8]])  # refer to points 3 and 4 above\n",
    "observation_distribution = tfd.Normal(loc=[0., 15.], scale=[5., 10.])  # insert standard deviation. Refer to point 5 above\n",
    "#loc=[mean] scale=[standard deviation]\n",
    "# the loc argument represents the mean and the scale is the standard devitation"
   ],
   "execution_count": 0,
   "outputs": []
  },
  {
   "cell_type": "code",
   "metadata": {
    "id": "-6zMGrr5Rcye",
    "colab_type": "code",
    "colab": {}
   },
   "source": [
    "#Here we use hidden Markov model\n",
    "model = tfd.HiddenMarkovModel(\n",
    "    initial_distribution=initial_distribution,\n",
    "    transition_distribution=transition_distribution,\n",
    "    observation_distribution=observation_distribution,\n",
    "    num_steps=7)"
   ],
   "execution_count": 0,
   "outputs": []
  },
  {
   "cell_type": "markdown",
   "metadata": {
    "id": "VDcskrMNTVel",
    "colab_type": "text"
   },
   "source": [
    "The number of steps represents the number of days that we would like to predict information for. In this case we've chosen 7, an entire week.\n",
    "\n",
    "To get the expected temperatures on each day we can do the following."
   ]
  },
  {
   "cell_type": "code",
   "metadata": {
    "id": "X0zs4E-qTVGu",
    "colab_type": "code",
    "colab": {}
   },
   "source": [
    "mean = model.mean() #Partially defined tensor - This calculates the probablity so that we can run our probability distribution model\n",
    "\n",
    "# due to the way TensorFlow works on a lower level we need to evaluate part of the graph\n",
    "# from within a session to see the value of this tensor\n",
    "\n",
    "# in the new version of tensorflow we need to use tf.compat.v1.Session() rather than just tf.Session()\n",
    "with tf.compat.v1.Session() as sess:  \n",
    "  print(mean.numpy())"
   ],
   "execution_count": 0,
   "outputs": []
  },
  {
   "cell_type": "markdown",
   "metadata": {
    "id": "e4z2zK5Sk3Wu",
    "colab_type": "text"
   },
   "source": [
    "The model and session combines gives the temperature on 7 days (the reason we input a 7 in the steps portion of the model\n",
    "\n",
    "Note: temperature is in celsius\n",
    "\n",
    "- [**Day 1:** 2.9999998 | **Day 2:** 5.9999995 | **Day 3:** 7.4999995 | **Day 4:** 8.25 | **Day 5:** 8.625001 | **Day 6:** 8.812501 | **Day 7:** 8.90625  ]"
   ]
  }
 ]
}