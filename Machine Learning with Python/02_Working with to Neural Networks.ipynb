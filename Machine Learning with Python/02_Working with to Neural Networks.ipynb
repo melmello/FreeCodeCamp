{
  "nbformat": 4,
  "nbformat_minor": 0,
  "metadata": {
    "colab": {
      "name": "Working with to Neural Networks.ipynb",
      "provenance": [],
      "collapsed_sections": [
        "hjyKEyET_oWC"
      ]
    },
    "kernelspec": {
      "name": "python3",
      "display_name": "Python 3"
    }
  },
  "cells": [
    {
      "cell_type": "markdown",
      "metadata": {
        "id": "aKcq7_ZqB7LI",
        "colab_type": "text"
      },
      "source": [
        "# Hey Everyone! Here's my progress in learning Tensorflow and practicing Machine Learning. **Part 2**\n",
        "\n",
        "\n",
        "**Follow my journey on social media:** [Podcast](https://open.spotify.com/show/6FxUBKO4bqwRWsjAIGZMwz) | [Twitter](https://twitter.com/tlkdata2me) | [Instagram](https://www.instagram.com/tlkdata2me/) | [LinkedIn](https://www.linkedin.com/in/shecananalyze/) \n",
        "\n",
        "Learning Source: [Click here to take freeCodeCamp's TensorFlow 2.0 Complete Course](https://www.youtube.com/watch?v=tPYj3fFJGjk)"
      ]
    },
    {
      "cell_type": "markdown",
      "metadata": {
        "id": "hjyKEyET_oWC",
        "colab_type": "text"
      },
      "source": [
        "## What I Learned about Neural Networks (Summary)\n",
        "So I listened to Tim explain Neural Networks and how they work. I will not place detailed notes in the notebook, but I have placed the link to his course above. \n",
        "\n",
        "The bases of Neural Networks is:\n",
        "- Neural Network include\n",
        "  - Inputs\n",
        "  - Outputs\n",
        "  - Hidden Layers\n",
        "    - Layers are connected by weights\n",
        "    - There are Biases on each layer\n",
        "      - Biases are controlled neurons placed in each layer before the output and and allows us to move the network in the needed direction. \n",
        "      \n",
        "Calculating the Network: \n",
        "1. Take the weighted sum of each Neuron in the layer by adding together all of the weights that connect the Neurons from the previous layer to the Neuron we need to find the value for.(This is done for each neuron in question)\n",
        "2. Add the Bias\n",
        "3. Apply Activation Functions to Biases to move them according to the function and help place neurons in the hidden layers between two values to determine the output. \n",
        "  - Activation Function moves the network up in complexity\n",
        "4. This process is repeated until the last output layer\n",
        "\n",
        "Training the Network:\n",
        "1. Make predictions\n",
        "2. Compare predictions to the expected values calculated in the Loss/Cost functions \n",
        "  - The lower the loss function, the better the network\n",
        "3. Calculate the Gradient\n",
        "4. Use the back-propigation algorithm to back track through the neural network and adjust weights and biases according to the calculated gradient."
      ]
    },
    {
      "cell_type": "markdown",
      "metadata": {
        "id": "kDQFq6UzcuHh",
        "colab_type": "text"
      },
      "source": [
        "### Optimizer\n",
        "\n",
        "**Optimizer (optimization function)** - A function that implements the backpropagation algorithm. \n",
        "\n",
        "A list of a few common optimizers:\n",
        "\n",
        "- Gradient Descent\n",
        "- Stochastic Gradient Descent\n",
        "- Mini-Batch Gradient Descent\n",
        "- Momentum\n",
        "- Nesterov Accelerated Gradient"
      ]
    },
    {
      "cell_type": "markdown",
      "metadata": {
        "id": "yD_Ga7sudUvV",
        "colab_type": "text"
      },
      "source": [
        "## Creating a Neural Network"
      ]
    },
    {
      "cell_type": "code",
      "metadata": {
        "id": "2UX1KP-H_gsE",
        "colab_type": "code",
        "outputId": "52c4f799-cb44-42bb-e6d4-2b51adee95d6",
        "colab": {
          "base_uri": "https://localhost:8080/",
          "height": 102
        }
      },
      "source": [
        "%tensorflow_version 2.x  # this line is not required unless you are in a notebook\n",
        "# TensorFlow and tf.keras\n",
        "import tensorflow as tf\n",
        "from tensorflow import keras\n",
        "\n",
        "# Helper libraries\n",
        "import numpy as np\n",
        "import matplotlib.pyplot as plt"
      ],
      "execution_count": 0,
      "outputs": [
        {
          "output_type": "stream",
          "text": [
            "`%tensorflow_version` only switches the major version: 1.x or 2.x.\n",
            "You set: `2.x  # this line is not required unless you are in a notebook`. This will be interpreted as: `2.x`.\n",
            "\n",
            "\n",
            "TensorFlow 2.x selected.\n"
          ],
          "name": "stdout"
        }
      ]
    },
    {
      "cell_type": "markdown",
      "metadata": {
        "id": "bCHgDPm3fMsA",
        "colab_type": "text"
      },
      "source": [
        "Here we imported a dataset from Keras which included 60,000 images for training and 10,000 images for validation/testing.\n"
      ]
    },
    {
      "cell_type": "code",
      "metadata": {
        "id": "06OyGTWbd4az",
        "colab_type": "code",
        "colab": {}
      },
      "source": [
        "fashion_mnist = keras.datasets.fashion_mnist  # load dataset\n",
        "\n",
        "(train_images, train_labels), (test_images, test_labels) = fashion_mnist.load_data()  # split into testing and training sets"
      ],
      "execution_count": 0,
      "outputs": []
    },
    {
      "cell_type": "code",
      "metadata": {
        "id": "oTcGnU5neWhT",
        "colab_type": "code",
        "outputId": "7c562018-2f43-4e4c-de0b-79503b6c0576",
        "colab": {
          "base_uri": "https://localhost:8080/",
          "height": 34
        }
      },
      "source": [
        "#Sets are train_images, train_labels, test_images, and test_labels\n",
        "train_images.shape"
      ],
      "execution_count": 0,
      "outputs": [
        {
          "output_type": "execute_result",
          "data": {
            "text/plain": [
              "(60000, 28, 28)"
            ]
          },
          "metadata": {
            "tags": []
          },
          "execution_count": 8
        }
      ]
    },
    {
      "cell_type": "markdown",
      "metadata": {
        "id": "GGux21tUexSb",
        "colab_type": "text"
      },
      "source": [
        "This shape means\n",
        "(60000 *images*, 28 *pixels*, 28 *pixels*)\n",
        "\n",
        "So we've got 60,000 images that are made up of 28x28 pixels (784 pixels in total)"
      ]
    },
    {
      "cell_type": "code",
      "metadata": {
        "id": "qn7XwbVMesme",
        "colab_type": "code",
        "outputId": "390e97df-37ee-4639-fa8d-3d419338a9b2",
        "colab": {
          "base_uri": "https://localhost:8080/",
          "height": 34
        }
      },
      "source": [
        "train_images[0,23,23]  # let's have a look at one pixel"
      ],
      "execution_count": 0,
      "outputs": [
        {
          "output_type": "execute_result",
          "data": {
            "text/plain": [
              "194"
            ]
          },
          "metadata": {
            "tags": []
          },
          "execution_count": 4
        }
      ]
    },
    {
      "cell_type": "markdown",
      "metadata": {
        "id": "DvHLabQH3hjJ",
        "colab_type": "text"
      },
      "source": [
        "From the train_images set we are calling: [image number 0, row 23(pixel), column 23(pixel)] \n",
        "\n",
        "Our pixel values are between 0 and 255, 0 being black and 255 being white. This means we have a grayscale image as there are no color channels."
      ]
    },
    {
      "cell_type": "code",
      "metadata": {
        "id": "AMJvAscM3lF1",
        "colab_type": "code",
        "outputId": "5955b1c0-9525-41b8-9413-b549be55f6fc",
        "colab": {
          "base_uri": "https://localhost:8080/",
          "height": 34
        }
      },
      "source": [
        "train_labels[:10]  # let's have a look at the first 10 training labels"
      ],
      "execution_count": 0,
      "outputs": [
        {
          "output_type": "execute_result",
          "data": {
            "text/plain": [
              "array([9, 0, 0, 3, 0, 2, 7, 2, 5, 5], dtype=uint8)"
            ]
          },
          "metadata": {
            "tags": []
          },
          "execution_count": 5
        }
      ]
    },
    {
      "cell_type": "markdown",
      "metadata": {
        "id": "y6QsaSYP36nZ",
        "colab_type": "text"
      },
      "source": [
        "Our labels are integers ranging from 0 - 9. Each integer represents a specific article of clothing. We'll create an array of label names to indicate which is which."
      ]
    },
    {
      "cell_type": "code",
      "metadata": {
        "id": "0u0L1QyI330R",
        "colab_type": "code",
        "colab": {}
      },
      "source": [
        "class_names = ['T-shirt/top', 'Trouser', 'Pullover', 'Dress', 'Coat',\n",
        "               'Sandal', 'Shirt', 'Sneaker', 'Bag', 'Ankle boot']"
      ],
      "execution_count": 0,
      "outputs": []
    },
    {
      "cell_type": "markdown",
      "metadata": {
        "id": "ipBqfa-d4NbZ",
        "colab_type": "text"
      },
      "source": [
        "Seeing what the images look like"
      ]
    },
    {
      "cell_type": "code",
      "metadata": {
        "id": "4eDd9HbA4HwR",
        "colab_type": "code",
        "outputId": "d4f545c8-2647-4a4c-bf5d-edc524708195",
        "colab": {
          "base_uri": "https://localhost:8080/",
          "height": 265
        }
      },
      "source": [
        "#This block of code will use madplotlib to help you see a grid view of the pixelated image. \n",
        "plt.figure()\n",
        "plt.imshow(train_images[1])\n",
        "plt.colorbar()\n",
        "plt.grid(False)\n",
        "plt.show()"
      ],
      "execution_count": 0,
      "outputs": [
        {
          "output_type": "display_data",
          "data": {
            "image/png": "[encoded data removed]",
            "text/plain": [
              "<Figure size 432x288 with 2 Axes>"
            ]
          },
          "metadata": {
            "tags": []
          }
        }
      ]
    },
    {
      "cell_type": "markdown",
      "metadata": {
        "id": "0n67yX4483_n",
        "colab_type": "text"
      },
      "source": [
        "##Data Preprocessing\n",
        "\n",
        "The last step before creating our model is to *preprocess* our data. This simply means applying some prior transformations to our data before feeding it the model. In this case we will simply scale all our greyscale pixel values (0-255) to be between 0 and 1. We can do this by dividing each value in the training and testing sets by 255.0. We do this because smaller values will make it easier for the model to process our values. \n"
      ]
    },
    {
      "cell_type": "code",
      "metadata": {
        "id": "5BtB8vzJ8V9Y",
        "colab_type": "code",
        "colab": {}
      },
      "source": [
        "train_images = train_images / 255.0\n",
        "\n",
        "test_images = test_images / 255.0\n",
        "#I will have to practice this step to full understand and get some good practice with it. "
      ],
      "execution_count": 0,
      "outputs": []
    },
    {
      "cell_type": "markdown",
      "metadata": {
        "id": "-HCZ80CY9SHY",
        "colab_type": "text"
      },
      "source": [
        "##Building the Model\n",
        "Now it's time to build the model! We are going to use a keras *sequential* model with three different layers. This model represents a feed-forward neural network (one that passes values from left to right). We'll break down each layer and its architecture below.\n",
        "\n",
        "*He put pretty great notes here so most of it will be copied from the original doc.*"
      ]
    },
    {
      "cell_type": "code",
      "metadata": {
        "id": "-OkWlfud9KCX",
        "colab_type": "code",
        "colab": {}
      },
      "source": [
        "model = keras.Sequential([\n",
        "    keras.layers.Flatten(input_shape=(28, 28)),  # input layer (1)\n",
        "    keras.layers.Dense(128, activation='relu'),  # hidden layer (2)\n",
        "    keras.layers.Dense(10, activation='softmax') # output layer (3)\n",
        "])"
      ],
      "execution_count": 0,
      "outputs": []
    },
    {
      "cell_type": "markdown",
      "metadata": {
        "id": "U0p5321U9zdK",
        "colab_type": "text"
      },
      "source": [
        "**Sequential Neural Networks:** Calculate from the left side to the right side of the neural network (in order)\n",
        "\n",
        "**Layer 1:** This is our input layer and it will conist of 784 neurons. We use the flatten layer with an input shape of (28,28) to denote that our input should come in in that shape. The ***.Flatten*** means that our layer will reshape the shape (28,28) array into a vector of 784 neurons so that each pixel will be associated with one neuron.\n",
        "\n",
        "**Layer 2:** This is our first and only hidden layer. The ***.Dense*** denotes that this layer will be fully connected and each neuron from the previous layer connects to each neuron of this layer. It has 128 neurons and uses the rectify linear unit *'relu'* activation function coded as *(activation = 'relu')*.\n",
        "\n",
        "**Layer 3:** This is our output later and is also a dense layer. **The number of output neurons (10) should be the same as the number of classes (10).** It has 10 neurons that we will look at to determine our models output. Each neuron represnts the probabillity of a given image being one of the 10 different classes. The activation function *softmax* is used on this layer to calculate a probabillity distribution for each class. This means the value of any neuron in this layer will be between 0 and 1, where 1 represents a high probabillity of the image being that class."
      ]
    },
    {
      "cell_type": "markdown",
      "metadata": {
        "id": "kWbvUJR_BCJG",
        "colab_type": "text"
      },
      "source": [
        "###Compile the Model\n",
        "**The last step in building the model is to define the following**\n",
        "- optimizer\n",
        "- loss function \n",
        "- metrics we would like to track \n",
        "\n",
        "**Hyperparameter:** a parameter whose value is set before the learning process begins. Another way to put it is that they are settings that can be tuned to control the behavior of a machine learning algorithm.\n",
        "\n",
        "**Hyperparameter Tuning/Optimizations:** Choosing a set of hyperparameters for a learning algorithm"
      ]
    },
    {
      "cell_type": "code",
      "metadata": {
        "id": "PRGezbkdAyYI",
        "colab_type": "code",
        "colab": {}
      },
      "source": [
        "model.compile(optimizer='adam',\n",
        "              loss='sparse_categorical_crossentropy',\n",
        "              metrics=['accuracy'])"
      ],
      "execution_count": 0,
      "outputs": []
    },
    {
      "cell_type": "markdown",
      "metadata": {
        "id": "Xuqmxym7C0PP",
        "colab_type": "text"
      },
      "source": [
        "##Training the Model\n",
        "Now it's finally time to train the model. Since we've already done all the work on our data this step is as easy as calling a single method."
      ]
    },
    {
      "cell_type": "code",
      "metadata": {
        "id": "yoU8x50GCrwe",
        "colab_type": "code",
        "outputId": "c0b94894-34d2-465b-a240-eaf9cac5f83b",
        "colab": {
          "base_uri": "https://localhost:8080/",
          "height": 222
        }
      },
      "source": [
        "model.fit(train_images, train_labels, epochs=5)  # we pass the data, labels and epochs and watch the magic!"
      ],
      "execution_count": 0,
      "outputs": [
        {
          "output_type": "stream",
          "text": [
            "Train on 60000 samples\n",
            "Epoch 1/5\n",
            "60000/60000 [==============================] - 4s 71us/sample - loss: 0.4046 - accuracy: 0.8572\n",
            "Epoch 2/5\n",
            "60000/60000 [==============================] - 4s 71us/sample - loss: 0.3995 - accuracy: 0.8597\n",
            "Epoch 3/5\n",
            "60000/60000 [==============================] - 4s 70us/sample - loss: 0.3946 - accuracy: 0.8619\n",
            "Epoch 4/5\n",
            "60000/60000 [==============================] - 4s 70us/sample - loss: 0.3904 - accuracy: 0.8624\n",
            "Epoch 5/5\n",
            "60000/60000 [==============================] - 4s 70us/sample - loss: 0.3865 - accuracy: 0.8636\n"
          ],
          "name": "stdout"
        },
        {
          "output_type": "execute_result",
          "data": {
            "text/plain": [
              "<tensorflow.python.keras.callbacks.History at 0x7f270d1fc748>"
            ]
          },
          "metadata": {
            "tags": []
          },
          "execution_count": 20
        }
      ]
    },
    {
      "cell_type": "markdown",
      "metadata": {
        "id": "ekOdUfXdFCiz",
        "colab_type": "text"
      },
      "source": [
        "##Evaluating the Model\n",
        "Now it's time to test/evaluate the model. We can do this quite easily using another builtin method from keras.\n",
        "\n",
        "The *verbose* argument is defined from the keras documentation as:\n",
        "\"verbose: 0 or 1. Verbosity mode. 0 = silent, 1 = progress bar.\"\n",
        "(https://keras.io/models/sequential/)"
      ]
    },
    {
      "cell_type": "code",
      "metadata": {
        "id": "GxykOXLkFAvl",
        "colab_type": "code",
        "outputId": "25e0a8ae-9806-4c39-9218-566c48dc97b4",
        "colab": {
          "base_uri": "https://localhost:8080/",
          "height": 51
        }
      },
      "source": [
        "test_loss, test_acc = model.evaluate(test_images,  test_labels, verbose=1) \n",
        "\n",
        "print('Test accuracy:', test_acc)"
      ],
      "execution_count": 0,
      "outputs": [
        {
          "output_type": "stream",
          "text": [
            "10000/10000 [==============================] - 0s 41us/sample - loss: 0.4230 - accuracy: 0.8495\n",
            "Test accuracy: 0.8495\n"
          ],
          "name": "stdout"
        }
      ]
    },
    {
      "cell_type": "markdown",
      "metadata": {
        "id": "T26X6H3JGGF-",
        "colab_type": "text"
      },
      "source": [
        "**Overfitting** is when the accuracy here is lower than when training the model. \n",
        "\n",
        "The model is now trained and we can use it to predict values. "
      ]
    },
    {
      "cell_type": "markdown",
      "metadata": {
        "id": "9txSQaDAJ_By",
        "colab_type": "text"
      },
      "source": [
        "##Making Predictions\n",
        "To make predictions we simply need to pass an array of data in the form we've specified in the input layer to ```.predict()``` method."
      ]
    },
    {
      "cell_type": "code",
      "metadata": {
        "id": "7GmdmT41KDgo",
        "colab_type": "code",
        "outputId": "f6722139-cf65-4a19-b781-e4b2cd02a7c3",
        "colab": {
          "base_uri": "https://localhost:8080/",
          "height": 51
        }
      },
      "source": [
        "predictions = model.predict(test_images)\n",
        "print(predictions[0])"
      ],
      "execution_count": 0,
      "outputs": [
        {
          "output_type": "stream",
          "text": [
            "[7.5480807e-07 2.3409090e-08 6.3617581e-06 4.0192153e-06 4.3783807e-06\n",
            " 2.0156334e-01 1.9379364e-05 1.5867223e-01 3.9893626e-03 6.3574010e-01]\n"
          ],
          "name": "stdout"
        }
      ]
    },
    {
      "cell_type": "markdown",
      "metadata": {
        "id": "uW4FTywiKIiB",
        "colab_type": "text"
      },
      "source": [
        "This method returns to us an array of predictions (probability distribution) for each image. Each number represents a class from class_names, the larger number represents the class the model is predicting the array is an image of. "
      ]
    },
    {
      "cell_type": "code",
      "metadata": {
        "id": "uuoDbeLnGFqp",
        "colab_type": "code",
        "outputId": "f0cf1e63-d13f-41c6-d5c9-725d6c9f953b",
        "colab": {
          "base_uri": "https://localhost:8080/",
          "height": 68
        }
      },
      "source": [
        "predictions[0]"
      ],
      "execution_count": 0,
      "outputs": [
        {
          "output_type": "execute_result",
          "data": {
            "text/plain": [
              "array([7.5480807e-07, 2.3409090e-08, 6.3617581e-06, 4.0192153e-06,\n",
              "       4.3783807e-06, 2.0156334e-01, 1.9379364e-05, 1.5867223e-01,\n",
              "       3.9893626e-03, 6.3574010e-01], dtype=float32)"
            ]
          },
          "metadata": {
            "tags": []
          },
          "execution_count": 25
        }
      ]
    },
    {
      "cell_type": "markdown",
      "metadata": {
        "id": "ObPGWbbYKQj8",
        "colab_type": "text"
      },
      "source": [
        "If we wan't to get the value with the highest score we can use a useful function from numpy called **argmax**(). This simply returns the index of the maximium value from a numpy array.\n"
      ]
    },
    {
      "cell_type": "markdown",
      "metadata": {
        "id": "C1izE_md4JHD",
        "colab_type": "text"
      },
      "source": [
        ""
      ]
    },
    {
      "cell_type": "code",
      "metadata": {
        "id": "m7eFv_buF44a",
        "colab_type": "code",
        "outputId": "006b753f-1bed-4970-9999-835864fb712e",
        "colab": {
          "base_uri": "https://localhost:8080/",
          "height": 34
        }
      },
      "source": [
        "np.argmax(predictions[0]) #The number in the 9th postion(really 10th) of the array is the maximum value"
      ],
      "execution_count": 0,
      "outputs": [
        {
          "output_type": "execute_result",
          "data": {
            "text/plain": [
              "9"
            ]
          },
          "metadata": {
            "tags": []
          },
          "execution_count": 26
        }
      ]
    },
    {
      "cell_type": "code",
      "metadata": {
        "id": "cXJWHqSsMZyK",
        "colab_type": "code",
        "outputId": "5d83d228-d9a5-4bd7-9c5a-b2372a4d99ab",
        "colab": {
          "base_uri": "https://localhost:8080/",
          "height": 34
        }
      },
      "source": [
        "print(class_names[np.argmax(predictions[0])]) #The label in the 9th position is the label the model is predicting is correct"
      ],
      "execution_count": 0,
      "outputs": [
        {
          "output_type": "stream",
          "text": [
            "Ankle boot\n"
          ],
          "name": "stdout"
        }
      ]
    },
    {
      "cell_type": "markdown",
      "metadata": {
        "id": "4SuF22oqKV0Q",
        "colab_type": "text"
      },
      "source": [
        "we can check if this is correct by looking at the value of the cooresponding test label."
      ]
    },
    {
      "cell_type": "code",
      "metadata": {
        "id": "CDGp1G1hKfXT",
        "colab_type": "code",
        "outputId": "0d1cb56b-abd2-4154-cad2-368bf1169fd4",
        "colab": {
          "base_uri": "https://localhost:8080/",
          "height": 34
        }
      },
      "source": [
        "test_labels[0]"
      ],
      "execution_count": 0,
      "outputs": [
        {
          "output_type": "execute_result",
          "data": {
            "text/plain": [
              "9"
            ]
          },
          "metadata": {
            "tags": []
          },
          "execution_count": 29
        }
      ]
    },
    {
      "cell_type": "markdown",
      "metadata": {
        "id": "dNl0M8tLNaNT",
        "colab_type": "text"
      },
      "source": [
        "Putting it all togther here because I like how it was done in the video. "
      ]
    },
    {
      "cell_type": "code",
      "metadata": {
        "id": "lFEI1UEmNm4X",
        "colab_type": "code",
        "outputId": "591216d2-5f33-4d75-c7c7-7eeab4cd6f36",
        "colab": {
          "base_uri": "https://localhost:8080/",
          "height": 282
        }
      },
      "source": [
        "print('The model has guessed: {}'.format(class_names[np.argmax(predictions[19])])) #Enter prediction index\n",
        "plt.figure()\n",
        "plt.imshow(test_images[19]) #enter image index\n",
        "plt.colorbar()\n",
        "plt.grid(False)\n",
        "plt.show()\n",
        "#The model should return what it's prediction of the pixelated image is. \n",
        "#The matplotlib portion of the code block will return a graph of the image in question"
      ],
      "execution_count": 0,
      "outputs": [
        {
          "output_type": "stream",
          "text": [
            "The model has guessed: T-shirt/top\n"
          ],
          "name": "stdout"
        },
        {
          "output_type": "display_data",
          "data": {
            "image/png": "[encoded data removed]",
            "text/plain": [
              "<Figure size 432x288 with 2 Axes>"
            ]
          },
          "metadata": {
            "tags": []
          }
        }
      ]
    },
    {
      "cell_type": "markdown",
      "metadata": {
        "id": "V7O7pObXKjts",
        "colab_type": "text"
      },
      "source": [
        "##Verifying Predictions\n",
        "\n",
        "The model will have us pick a number, it will then tell us the expected image along with the grid and then tell us what the guess is....pretty much the same as above thing with an input option. Pretty cool!"
      ]
    },
    {
      "cell_type": "code",
      "metadata": {
        "id": "2nrmhM3fKkp9",
        "colab_type": "code",
        "outputId": "6b90ee53-24a9-4e07-dcc7-da45c75ec8ce",
        "colab": {
          "base_uri": "https://localhost:8080/",
          "height": 312
        }
      },
      "source": [
        "COLOR = 'white'\n",
        "plt.rcParams['text.color'] = COLOR\n",
        "plt.rcParams['axes.labelcolor'] = COLOR\n",
        "\n",
        "def predict(model, image, correct_label):\n",
        "  class_names = ['T-shirt/top', 'Trouser', 'Pullover', 'Dress', 'Coat',\n",
        "               'Sandal', 'Shirt', 'Sneaker', 'Bag', 'Ankle boot']\n",
        "  prediction = model.predict(np.array([image]))\n",
        "  predicted_class = class_names[np.argmax(prediction)]\n",
        "\n",
        "  show_image(image, class_names[correct_label], predicted_class)\n",
        "\n",
        "\n",
        "def show_image(img, label, guess):\n",
        "  plt.figure()\n",
        "  plt.imshow(img, cmap=plt.cm.binary)\n",
        "  plt.title(\"Excpected: \" + label)\n",
        "  plt.xlabel(\"Guess: \" + guess)\n",
        "  plt.colorbar()\n",
        "  plt.grid(False)\n",
        "  plt.show()\n",
        "\n",
        "\n",
        "def get_number():\n",
        "  while True:\n",
        "    num = input(\"Pick a number: \")\n",
        "    if num.isdigit():\n",
        "      num = int(num)\n",
        "      if 0 <= num <= 1000:\n",
        "        return int(num)\n",
        "    else:\n",
        "      print(\"Try again...\")\n",
        "\n",
        "num = get_number()\n",
        "image = test_images[num]\n",
        "label = test_labels[num]\n",
        "predict(model, image, label)\n"
      ],
      "execution_count": 0,
      "outputs": [
        {
          "output_type": "stream",
          "text": [
            "Pick a number: 8\n"
          ],
          "name": "stdout"
        },
        {
          "output_type": "display_data",
          "data": {
            "image/png": "[encoded data removed]",
            "text/plain": [
              "<Figure size 432x288 with 2 Axes>"
            ]
          },
          "metadata": {
            "tags": []
          }
        }
      ]
    }
  ]
}